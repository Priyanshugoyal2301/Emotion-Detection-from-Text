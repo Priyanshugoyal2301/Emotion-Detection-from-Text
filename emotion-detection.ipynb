{
 "cells": [
  {
   "cell_type": "code",
   "execution_count": 1,
   "id": "b8ce293a",
   "metadata": {
    "execution": {
     "iopub.execute_input": "2025-06-13T18:08:52.164551Z",
     "iopub.status.busy": "2025-06-13T18:08:52.164252Z",
     "iopub.status.idle": "2025-06-13T18:10:43.462605Z",
     "shell.execute_reply": "2025-06-13T18:10:43.461616Z"
    },
    "papermill": {
     "duration": 111.304178,
     "end_time": "2025-06-13T18:10:43.465277",
     "exception": false,
     "start_time": "2025-06-13T18:08:52.161099",
     "status": "completed"
    },
    "tags": []
   },
   "outputs": [
    {
     "name": "stdout",
     "output_type": "stream",
     "text": [
      "<class 'pandas.core.frame.DataFrame'>\n",
      "RangeIndex: 416809 entries, 0 to 416808\n",
      "Data columns (total 3 columns):\n",
      " #   Column      Non-Null Count   Dtype \n",
      "---  ------      --------------   ----- \n",
      " 0   Unnamed: 0  416809 non-null  int64 \n",
      " 1   text        416809 non-null  object\n",
      " 2   label       416809 non-null  int64 \n",
      "dtypes: int64(2), object(1)\n",
      "memory usage: 9.5+ MB\n"
     ]
    },
    {
     "data": {
      "text/plain": [
       "({'0': {'precision': 0.9354363569412053,\n",
       "   'recall': 0.9447130283872567,\n",
       "   'f1-score': 0.940051807080301,\n",
       "   'support': 24201},\n",
       "  '1': {'precision': 0.9141539429090528,\n",
       "   'recall': 0.9289873597500355,\n",
       "   'f1-score': 0.9215109624020429,\n",
       "   'support': 28164},\n",
       "  '2': {'precision': 0.8007575757575758,\n",
       "   'recall': 0.762736325588108,\n",
       "   'f1-score': 0.7812846477936285,\n",
       "   'support': 6929},\n",
       "  '3': {'precision': 0.9016436439937052,\n",
       "   'recall': 0.9014072196486321,\n",
       "   'f1-score': 0.9015254163206434,\n",
       "   'support': 11441},\n",
       "  '4': {'precision': 0.8494680290740546,\n",
       "   'recall': 0.8405253283302064,\n",
       "   'f1-score': 0.8449730182846964,\n",
       "   'support': 9594},\n",
       "  '5': {'precision': 0.7638136511375948,\n",
       "   'recall': 0.6973293768545994,\n",
       "   'f1-score': 0.7290589451913133,\n",
       "   'support': 3033},\n",
       "  'accuracy': 0.8973393152755452,\n",
       "  'macro avg': {'precision': 0.8608788666355313,\n",
       "   'recall': 0.8459497730931398,\n",
       "   'f1-score': 0.8530674661787709,\n",
       "   'support': 83362},\n",
       "  'weighted avg': {'precision': 0.896275571250902,\n",
       "   'recall': 0.8973393152755452,\n",
       "   'f1-score': 0.896684449258855,\n",
       "   'support': 83362}},\n",
       " array([[22863,   299,    72,   540,   382,    45],\n",
       "        [  371, 26164,  1154,   157,   149,   169],\n",
       "        [   76,  1488,  5285,    48,    18,    14],\n",
       "        [  560,   208,    40, 10313,   306,    14],\n",
       "        [  511,   204,    35,   368,  8064,   412],\n",
       "        [   60,   258,    14,    12,   574,  2115]]))"
      ]
     },
     "execution_count": 1,
     "metadata": {},
     "output_type": "execute_result"
    }
   ],
   "source": [
    "import pandas as pd\n",
    "import numpy as np\n",
    "import os\n",
    "from sklearn.model_selection import train_test_split\n",
    "from sklearn.feature_extraction.text import TfidfVectorizer\n",
    "from sklearn.linear_model import LogisticRegression\n",
    "from sklearn.metrics import classification_report, confusion_matrix\n",
    "from sklearn.pipeline import Pipeline\n",
    "from sklearn.preprocessing import LabelEncoder\n",
    "import matplotlib.pyplot as plt\n",
    "import seaborn as sns\n",
    "file_path = \"/kaggle/input/twitter-emotion-dataset/text.csv\"\n",
    "df = pd.read_csv(file_path)\n",
    "df.info(), df.head()\n",
    "# Drop unnecessary column\n",
    "df = df.drop(columns=['Unnamed: 0'])\n",
    "\n",
    "emotion_mapping = {\n",
    "    0: \"sadness\",\n",
    "    1: \"joy\",\n",
    "    2: \"love\",\n",
    "    3: \"anger\",\n",
    "    4: \"fear\",\n",
    "    5: \"surprise\"\n",
    "}\n",
    "\n",
    "# Split the data\n",
    "X_train, X_test, y_train, y_test = train_test_split(df['text'], df['label'], test_size=0.2, random_state=42)\n",
    "\n",
    "# Create pipeline with TF-IDF and Logistic Regression\n",
    "pipeline = Pipeline([\n",
    "    ('tfidf', TfidfVectorizer(max_features=10000)),\n",
    "    ('clf', LogisticRegression(max_iter=1000))\n",
    "])\n",
    "\n",
    "# Train the model\n",
    "pipeline.fit(X_train, y_train)\n",
    "\n",
    "# Predict on test data\n",
    "y_pred = pipeline.predict(X_test)\n",
    "\n",
    "# Evaluation report\n",
    "report = classification_report(y_test, y_pred, output_dict=True)\n",
    "conf_matrix = confusion_matrix(y_test, y_pred)\n",
    "\n",
    "(report, conf_matrix)\n"
   ]
  },
  {
   "cell_type": "code",
   "execution_count": 2,
   "id": "377277e5",
   "metadata": {
    "execution": {
     "iopub.execute_input": "2025-06-13T18:10:43.470493Z",
     "iopub.status.busy": "2025-06-13T18:10:43.470151Z",
     "iopub.status.idle": "2025-06-13T18:10:43.480257Z",
     "shell.execute_reply": "2025-06-13T18:10:43.479310Z"
    },
    "papermill": {
     "duration": 0.014457,
     "end_time": "2025-06-13T18:10:43.481930",
     "exception": false,
     "start_time": "2025-06-13T18:10:43.467473",
     "status": "completed"
    },
    "tags": []
   },
   "outputs": [
    {
     "data": {
      "text/plain": [
       "('love',\n",
       " {'0': {'precision': 0.9354363569412053,\n",
       "   'recall': 0.9447130283872567,\n",
       "   'f1-score': 0.940051807080301,\n",
       "   'support': 24201},\n",
       "  '1': {'precision': 0.9141539429090528,\n",
       "   'recall': 0.9289873597500355,\n",
       "   'f1-score': 0.9215109624020429,\n",
       "   'support': 28164},\n",
       "  '2': {'precision': 0.8007575757575758,\n",
       "   'recall': 0.762736325588108,\n",
       "   'f1-score': 0.7812846477936285,\n",
       "   'support': 6929},\n",
       "  '3': {'precision': 0.9016436439937052,\n",
       "   'recall': 0.9014072196486321,\n",
       "   'f1-score': 0.9015254163206434,\n",
       "   'support': 11441},\n",
       "  '4': {'precision': 0.8494680290740546,\n",
       "   'recall': 0.8405253283302064,\n",
       "   'f1-score': 0.8449730182846964,\n",
       "   'support': 9594},\n",
       "  '5': {'precision': 0.7638136511375948,\n",
       "   'recall': 0.6973293768545994,\n",
       "   'f1-score': 0.7290589451913133,\n",
       "   'support': 3033},\n",
       "  'accuracy': 0.8973393152755452,\n",
       "  'macro avg': {'precision': 0.8608788666355313,\n",
       "   'recall': 0.8459497730931398,\n",
       "   'f1-score': 0.8530674661787709,\n",
       "   'support': 83362},\n",
       "  'weighted avg': {'precision': 0.896275571250902,\n",
       "   'recall': 0.8973393152755452,\n",
       "   'f1-score': 0.896684449258855,\n",
       "   'support': 83362}})"
      ]
     },
     "execution_count": 2,
     "metadata": {},
     "output_type": "execute_result"
    }
   ],
   "source": [
    "custom_text = [\"I would think that whomever would be lucky enough to stay in this suite must feel like it is the most romantic place on earth\"]\n",
    "predicted_label = pipeline.predict(custom_text)[0]\n",
    "predicted_emotion = emotion_mapping[predicted_label]\n",
    "\n",
    "predicted_emotion, report"
   ]
  }
 ],
 "metadata": {
  "kaggle": {
   "accelerator": "none",
   "dataSources": [
    {
     "datasetId": 4563739,
     "sourceId": 7795437,
     "sourceType": "datasetVersion"
    }
   ],
   "dockerImageVersionId": 31040,
   "isGpuEnabled": false,
   "isInternetEnabled": true,
   "language": "python",
   "sourceType": "notebook"
  },
  "kernelspec": {
   "display_name": "Python 3",
   "language": "python",
   "name": "python3"
  },
  "language_info": {
   "codemirror_mode": {
    "name": "ipython",
    "version": 3
   },
   "file_extension": ".py",
   "mimetype": "text/x-python",
   "name": "python",
   "nbconvert_exporter": "python",
   "pygments_lexer": "ipython3",
   "version": "3.11.11"
  },
  "papermill": {
   "default_parameters": {},
   "duration": 118.022839,
   "end_time": "2025-06-13T18:10:44.304909",
   "environment_variables": {},
   "exception": null,
   "input_path": "__notebook__.ipynb",
   "output_path": "__notebook__.ipynb",
   "parameters": {},
   "start_time": "2025-06-13T18:08:46.282070",
   "version": "2.6.0"
  }
 },
 "nbformat": 4,
 "nbformat_minor": 5
}
